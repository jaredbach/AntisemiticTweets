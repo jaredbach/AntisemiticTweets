{
 "cells": [
  {
   "cell_type": "markdown",
   "id": "blind-memphis",
   "metadata": {},
   "source": [
    "# Pull Antisemitc Tweets Using Snscrape Twitter Module"
   ]
  },
  {
   "cell_type": "code",
   "execution_count": 1,
   "id": "sublime-sampling",
   "metadata": {},
   "outputs": [],
   "source": [
    "# Imports\n",
    "import os\n",
    "import glob\n",
    "import pandas as pd\n",
    "from datetime import date\n",
    "from datetime import timedelta\n",
    "import re\n",
    "import emoji"
   ]
  },
  {
   "cell_type": "markdown",
   "id": "marked-orientation",
   "metadata": {},
   "source": [
    "### Define a Query Pulling Function"
   ]
  },
  {
   "cell_type": "code",
   "execution_count": 2,
   "id": "caring-senator",
   "metadata": {},
   "outputs": [],
   "source": [
    "def pull_twitter_query(query):\n",
    "    \n",
    "    # Ensure the Query is Read as a String\n",
    "    query = str(query)\n",
    "    \n",
    "    # Change Directory to the 'Jews' Folder\n",
    "    os.chdir('/Users/AmiBach/Desktop/Programming/AntisemiticTweets/{}'.format(query))\n",
    "\n",
    "    # Create Date Object\n",
    "    my_date = date(2020, 1, 1).isoformat()\n",
    "    num=1\n",
    "\n",
    "    # Using OS library to call CLI commands in Python\n",
    "    while num!= 367: # (Leap Year)\n",
    "        os.system(\"snscrape --jsonl --max-results 50 twitter-search \\\"{} until:{} lang:en\\\" > Jews-Tweets_{}.json\".format(query,my_date,num))\n",
    "        my_date = (date.fromisoformat(my_date)+timedelta(days=1)).isoformat()\n",
    "        num+=1\n",
    "    \n",
    "    # Combine JSON Files\n",
    "    extension = 'json'\n",
    "    all_filenames = [i for i in glob.glob('*.{}'.format(extension))]\n",
    "\n",
    "    # Combine All Files in the List\n",
    "    tweets = pd.concat([pd.read_json(f,lines=True) for f in all_filenames])\n",
    "\n",
    "    # Drop Index\n",
    "    tweets.reset_index(drop=True, inplace=True)\n",
    "\n",
    "    # Clean Dataframe, Add Query Var\n",
    "    tweets.insert(2,\"query\",\"{}\".format(query),True)\n",
    "    tweets = tweets[['content','query','date']]\n",
    "    \n",
    "    # Create a Hashhtag Column\n",
    "    tweets['hashtag'] = tweets['content'].apply(lambda x: re.findall(r\"#(\\w+)\", x))\n",
    "    \n",
    "    # Remove Links\n",
    "    tweets['content'] =  [re.sub(r'http\\S+', '', str(tweet)) for tweet in tweets['content']]\n",
    "\n",
    "    # Remove Hashtags\n",
    "    tweets['content'] =  [re.sub(r'#(\\w+)','', str(tweet)) for tweet in tweets['content']]\n",
    "\n",
    "    # Remove @s\n",
    "    tweets['content'] =  [re.sub(r'@(\\w+)','', str(tweet)) for tweet in tweets['content']]\n",
    "\n",
    "    # Remove Emojis - Part 1\n",
    "    def strip_emoji(text):\n",
    "        emoji.emoji_count(text)\n",
    "        new_text = re.sub(emoji.get_emoji_regexp(), r\"\", text)\n",
    "        return new_text\n",
    "\n",
    "    # Remove Emojis - Part 2\n",
    "    tweets['content'] =  [strip_emoji(tweet) for tweet in tweets['content']]\n",
    "\n",
    "    # Remove White Space\n",
    "    tweets['content'] =  [\" \".join(tweet.split()) for tweet in tweets['content']]\n",
    "    \n",
    "    # Export Dataframe into a CSV\n",
    "    tweets.to_csv('{}-Tweets_Final.csv'.format(query), sep=',', index=False)\n",
    "    \n",
    "    # Print'Done!' When Code is Done!\n",
    "    print(\"Done!\")"
   ]
  },
  {
   "cell_type": "markdown",
   "id": "irish-combination",
   "metadata": {},
   "source": [
    "### \"Jews\" Query\n",
    "+ Language: English\n",
    "+ 50 Tweets from Each Day in 2020\n",
    "+ Change OS Directory to the 'Jews' Folder on Your Machine or Code Will Produce an Error"
   ]
  },
  {
   "cell_type": "code",
   "execution_count": 3,
   "id": "obvious-rebecca",
   "metadata": {},
   "outputs": [
    {
     "name": "stdout",
     "output_type": "stream",
     "text": [
      "Done!\n"
     ]
    }
   ],
   "source": [
    "pull_twitter_query(\"Jews\")"
   ]
  },
  {
   "cell_type": "markdown",
   "id": "bulgarian-electron",
   "metadata": {},
   "source": [
    "### \"Israel\" Query\n",
    "+ Language: English\n",
    "+ 50 Tweets from Each Day in 2020\n",
    "+ Change OS Directory to the 'Israel' Folder on Your Machine or Code Will Produce an Error"
   ]
  },
  {
   "cell_type": "code",
   "execution_count": 4,
   "id": "korean-needle",
   "metadata": {},
   "outputs": [
    {
     "name": "stdout",
     "output_type": "stream",
     "text": [
      "Done!\n"
     ]
    }
   ],
   "source": [
    "pull_twitter_query(\"Israel\")"
   ]
  },
  {
   "cell_type": "markdown",
   "id": "damaged-variable",
   "metadata": {},
   "source": [
    "### \"Zionist\" Query\n",
    "+ Language: English\n",
    "+ 50 Tweets from Each Day in 2020\n",
    "+ Change OS Directory to the 'Zionist' Folder on Your Machine or Code Will Produce an Error"
   ]
  },
  {
   "cell_type": "code",
   "execution_count": 5,
   "id": "younger-transaction",
   "metadata": {},
   "outputs": [
    {
     "name": "stdout",
     "output_type": "stream",
     "text": [
      "Done!\n"
     ]
    }
   ],
   "source": [
    "pull_twitter_query(\"Zionist\")"
   ]
  },
  {
   "cell_type": "markdown",
   "id": "hungarian-celebrity",
   "metadata": {},
   "source": [
    "### Combine CSVs"
   ]
  },
  {
   "cell_type": "code",
   "execution_count": 8,
   "id": "amino-active",
   "metadata": {},
   "outputs": [],
   "source": [
    "# Change Directory - Put the Final Query CSVs in this Directory Manually\n",
    "os.chdir('/Users/AmiBach/Desktop/Programming/AntisemiticTweets')\n",
    "\n",
    "# Combine CSV Files\n",
    "extension = 'csv'\n",
    "all_filenames = [i for i in glob.glob('*.{}'.format(extension))]\n",
    "\n",
    "# Combine All Files in the List\n",
    "tweets = pd.concat([pd.read_csv(f) for f in all_filenames])"
   ]
  },
  {
   "cell_type": "markdown",
   "id": "acting-share",
   "metadata": {},
   "source": [
    "### Export CSV"
   ]
  },
  {
   "cell_type": "code",
   "execution_count": 9,
   "id": "selective-philip",
   "metadata": {},
   "outputs": [],
   "source": [
    "# Export Dataframe into a CSV\n",
    "tweets.to_csv('Tweets.csv', sep=',', index=False)"
   ]
  },
  {
   "cell_type": "code",
   "execution_count": null,
   "id": "lucky-nelson",
   "metadata": {},
   "outputs": [],
   "source": []
  }
 ],
 "metadata": {
  "kernelspec": {
   "display_name": "Python 3",
   "language": "python",
   "name": "python3"
  },
  "language_info": {
   "codemirror_mode": {
    "name": "ipython",
    "version": 3
   },
   "file_extension": ".py",
   "mimetype": "text/x-python",
   "name": "python",
   "nbconvert_exporter": "python",
   "pygments_lexer": "ipython3",
   "version": "3.9.1"
  }
 },
 "nbformat": 4,
 "nbformat_minor": 5
}